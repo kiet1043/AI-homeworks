{
  "nbformat": 4,
  "nbformat_minor": 0,
  "metadata": {
    "colab": {
      "provenance": [],
      "authorship_tag": "ABX9TyPSyi1SahwIj134DPRudLmi",
      "include_colab_link": true
    },
    "kernelspec": {
      "name": "python3",
      "display_name": "Python 3"
    },
    "language_info": {
      "name": "python"
    }
  },
  "cells": [
    {
      "cell_type": "markdown",
      "metadata": {
        "id": "view-in-github",
        "colab_type": "text"
      },
      "source": [
        "<a href=\"https://colab.research.google.com/github/kiet1043/AI-homeworks/blob/main/BT_FuzzyLogic.ipynb\" target=\"_parent\"><img src=\"https://colab.research.google.com/assets/colab-badge.svg\" alt=\"Open In Colab\"/></a>"
      ]
    },
    {
      "cell_type": "code",
      "execution_count": null,
      "metadata": {
        "id": "mmze6Jqnrp4P"
      },
      "outputs": [],
      "source": [
        "pip install -U scikit-fuzzy"
      ]
    },
    {
      "cell_type": "markdown",
      "source": [
        "Medical Diagnosis System Using Fuzzy Logic"
      ],
      "metadata": {
        "id": "cBB-tPrXv9Hr"
      }
    },
    {
      "cell_type": "code",
      "source": [
        "from skfuzzy import membership\n",
        "import numpy as np\n",
        "import skfuzzy as fuzz\n",
        "from skfuzzy import control as ctrl\n",
        "\n",
        "fuzzyValues = np.arange(0.1, 1.0, 0.001)\n",
        "\n",
        "# Inputs\n",
        "fever          = ctrl.Antecedent(fuzzyValues, 'Fever')\n",
        "headache       = ctrl.Antecedent(fuzzyValues, 'Headache')\n",
        "nausea         = ctrl.Antecedent(fuzzyValues, 'Nausea')\n",
        "vomiting       = ctrl.Antecedent(fuzzyValues, 'Vomiting')\n",
        "jaundice       = ctrl.Antecedent(fuzzyValues, 'Jaundice')\n",
        "enlargeLiver   = ctrl.Antecedent(fuzzyValues, 'Enlarge Liver')\n",
        "jointPain      = ctrl.Antecedent(fuzzyValues, 'Joint Pain')\n",
        "bodyWeakness   = ctrl.Antecedent(fuzzyValues, 'Body Weakness')\n",
        "dizziness      = ctrl.Antecedent(fuzzyValues, 'Dizziness')\n",
        "lossOfAppetite = ctrl.Antecedent(fuzzyValues, 'Loss Of Appetite')\n",
        "MP             = ctrl.Antecedent(fuzzyValues, 'MP')\n",
        "\n",
        "# Output\n",
        "conclusion = ctrl.Consequent(fuzzyValues, 'Conclusion')\n",
        "\n",
        "# Membership\n",
        "def MembershipFunction(field):\n",
        "    field['Mild']        = fuzz.trimf(fuzzyValues, [0.1, 0.2, 0.3])\n",
        "    field['Moderate']    = fuzz.trimf(fuzzyValues, [0.3, 0.45, 0.6])\n",
        "    field['Severe']      = fuzz.trimf(fuzzyValues, [0.6, 0.7, 0.8])\n",
        "    field['Very Severe'] = fuzz.trimf(fuzzyValues, [0.8, 0.9, 1.0])\n",
        "    \n",
        "  \n",
        "MembershipFunction(fever)\n",
        "MembershipFunction(headache)\n",
        "MembershipFunction(nausea)\n",
        "MembershipFunction(vomiting)\n",
        "MembershipFunction(jaundice)\n",
        "MembershipFunction(enlargeLiver)\n",
        "MembershipFunction(jointPain)\n",
        "MembershipFunction(bodyWeakness)\n",
        "MembershipFunction(dizziness)\n",
        "MembershipFunction(lossOfAppetite)\n",
        "MembershipFunction(MP)\n",
        "MembershipFunction(conclusion)\n",
        "\n",
        "\n",
        "dict_value = {1: 'Mild', 2: 'Moderate', 3: 'Severe', 4: 'Very Severe'}\n",
        "rule = []\n",
        "\n",
        "def MakeRule(i):\n",
        "    f1  = dict_value[val_fever[i]]\n",
        "    f2  = dict_value[val_headache[i]]\n",
        "    f3  = dict_value[val_nausea[i]]\n",
        "    f4  = dict_value[val_vomiting[i]]\n",
        "    f5  = dict_value[val_jaundice[i]]\n",
        "    f6  = dict_value[val_enlargeLiver[i]]\n",
        "    f7  = dict_value[val_jointPain[i]]\n",
        "    f8  = dict_value[val_bodyWeakness[i]]\n",
        "    f9  = dict_value[val_dizziness[i]]\n",
        "    f10 = dict_value[val_lossOfAppetite[i]]\n",
        "    f11 = dict_value[val_MP[i]]\n",
        "    c   = dict_value[con[i]]\n",
        "\n",
        "    rule.append(ctrl.Rule(fever[f1] & headache[f2] & nausea[f3] &\n",
        "        vomiting[f4] & jaundice[f5] & enlargeLiver[f6] & jointPain[f7] &\n",
        "        bodyWeakness[f8] & dizziness[f9] & lossOfAppetite[f10] & MP[f11], conclusion[c] ))\n",
        "    \n",
        "val_fever          = [1,2,3,4,2,1,1,2,2,1,3,2,1,3,1,4,1,2,2,4]\n",
        "val_headache       = [1,1,2,1,1,2,1,2,1,1,3,3,2,3,1,2,4,4,2,3]\n",
        "val_nausea         = [1,1,1,1,1,2,2,2,2,2,3,2,2,2,1,1,2,4,2,3]\n",
        "val_vomiting       = [1,1,1,1,2,1,2,2,2,2,3,3,2,3,2,2,2,1,2,3]\n",
        "val_jaundice       = [1,1,1,1,1,1,1,2,1,1,3,2,1,3,1,3,1,3,1,3]\n",
        "val_enlargeLiver   = [1,1,1,1,1,1,1,2,3,2,3,3,1,3,1,2,2,3,1,3]\n",
        "val_jointPain      = [1,2,1,3,2,1,3,2,2,1,3,2,1,3,1,1,1,2,2,3]\n",
        "val_bodyWeakness   = [1,2,3,3,2,1,3,2,2,1,4,3,2,3,3,4,2,3,2,3]\n",
        "val_dizziness      = [3,3,3,1,2,2,2,2,3,1,3,2,1,2,1,3,4,4,2,3]\n",
        "val_lossOfAppetite = [1,3,3,1,3,1,2,2,2,1,3,1,2,2,3,1,1,4,2,3]\n",
        "val_MP             = [1,2,2,3,2,1,2,2,2,1,2,2,2,3,2,2,2,3,2,2]\n",
        "con                = [1,2,3,4,2,1,3,2,2,1,4,3,2,3,3,4,4,4,2,4]\n",
        "\n",
        "for i in range(20):\n",
        "    MakeRule(i)\n",
        "#Control system\n",
        "conclusion_control = ctrl.ControlSystem(rule)\n",
        "conclusion_simulation = ctrl.ControlSystemSimulation(conclusion_control)\n",
        "\n",
        "#fever.view()\n",
        "#headache.view()\n",
        "#nausea.view()\n",
        "#vomiting.view()\n",
        "#jaundice.view()\n",
        "#enlargeLiver.view()\n",
        "#jointPain.view()\n",
        "#bodyWeakness.view()\n",
        "#dizziness.view()\n",
        "#lossOfAppetite.view()\n",
        "#MP.view()\n",
        "#conclusion.view()\n",
        "\n",
        "# Compute\n",
        "conclusion_simulation.inputs({'Fever': 0.2, 'Headache': 0.2, 'Nausea': 0.2, \n",
        "                               'Vomiting': 0.2, 'Jaundice': 0.2,'Enlarge Liver': 0.2,\n",
        "                               'Joint Pain': 0.2, 'Body Weakness': 0.2, 'Dizziness': 0.7, 'Loss Of Appetite': 0.2, 'MP': 0.2})\n",
        "conclusion_simulation.compute()\n",
        "print(conclusion_simulation.output['Conclusion'])\n",
        "conclusion.view(sim = conclusion_simulation)"
      ],
      "metadata": {
        "colab": {
          "base_uri": "https://localhost:8080/",
          "height": 298
        },
        "id": "QWPmp1PGrqv7",
        "outputId": "35d2dba4-bc9e-4ea6-eb03-ad5b3b9ea8f0"
      },
      "execution_count": 8,
      "outputs": [
        {
          "output_type": "stream",
          "name": "stdout",
          "text": [
            "0.1999999999999999\n"
          ]
        },
        {
          "output_type": "display_data",
          "data": {
            "text/plain": [
              "<Figure size 432x288 with 1 Axes>"
            ],
            "image/png": "[encoded data removed]"
          },
          "metadata": {
            "needs_background": "light"
          }
        }
      ]
    }
  ]
}