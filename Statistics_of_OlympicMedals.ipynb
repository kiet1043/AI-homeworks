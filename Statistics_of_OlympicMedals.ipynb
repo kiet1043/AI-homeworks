{
  "nbformat": 4,
  "nbformat_minor": 0,
  "metadata": {
    "colab": {
      "provenance": [],
      "authorship_tag": "ABX9TyN0JbB2pXQk5zzSg4evFKBi",
      "include_colab_link": true
    },
    "kernelspec": {
      "name": "python3",
      "display_name": "Python 3"
    },
    "language_info": {
      "name": "python"
    }
  },
  "cells": [
    {
      "cell_type": "markdown",
      "metadata": {
        "id": "view-in-github",
        "colab_type": "text"
      },
      "source": [
        "<a href=\"https://colab.research.google.com/github/kiet1043/AI-homeworks/blob/main/Statistics_of_OlympicMedals.ipynb\" target=\"_parent\"><img src=\"https://colab.research.google.com/assets/colab-badge.svg\" alt=\"Open In Colab\"/></a>"
      ]
    },
    {
      "cell_type": "markdown",
      "source": [],
      "metadata": {
        "id": "nMspqLZa745O"
      }
    },
    {
      "cell_type": "markdown",
      "source": [
        "Choose 1 country, show how many medals (Gold, Silver,Bronze) of each sport from 1 year according to data from file csv\n",
        "\n",
        "---\n",
        "I choose GER (German), year 1994\n"
      ],
      "metadata": {
        "id": "oow3QYNw6xEF"
      }
    },
    {
      "cell_type": "code",
      "execution_count": 81,
      "metadata": {
        "colab": {
          "base_uri": "https://localhost:8080/"
        },
        "id": "MvvI-gtUecvc",
        "outputId": "ea3c79db-e474-40ab-a089-0ce01bf83649"
      },
      "outputs": [
        {
          "output_type": "execute_result",
          "data": {
            "text/plain": [
              "Year  NOC  Sport      Medal \n",
              "1994  GER  Biathlon   Bronze    2\n",
              "                      Gold      1\n",
              "                      Silver    3\n",
              "           Bobsleigh  Bronze    1\n",
              "                      Gold      1\n",
              "           Luge       Bronze    1\n",
              "                      Gold      1\n",
              "                      Silver    1\n",
              "           Skating    Bronze    3\n",
              "                      Gold      1\n",
              "                      Silver    2\n",
              "           Skiing     Bronze    1\n",
              "                      Gold      5\n",
              "                      Silver    1\n",
              "Name: Medal, dtype: int64"
            ]
          },
          "metadata": {},
          "execution_count": 81
        }
      ],
      "source": [
        "import pandas as pd\n",
        "url = 'http://winterolympicsmedals.com/medals.csv'\n",
        "dataframe = pd.read_csv(url)\n",
        "dataframe[(dataframe['Year']==1994) & (dataframe['NOC']=='GER')].groupby([\"Year\",\"NOC\",\"Sport\",\"Medal\"])[\"Medal\"].count()"
      ]
    }
  ]
}